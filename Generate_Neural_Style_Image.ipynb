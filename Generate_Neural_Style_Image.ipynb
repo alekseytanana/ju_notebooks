{
  "nbformat": 4,
  "nbformat_minor": 0,
  "metadata": {
    "colab": {
      "name": "Generate_Neural_Style_Image.ipynb",
      "provenance": [],
      "authorship_tag": "ABX9TyPRcn2JzScAf3c3a9o2fOQ+",
      "include_colab_link": true
    },
    "kernelspec": {
      "name": "python3",
      "display_name": "Python 3"
    },
    "language_info": {
      "name": "python"
    },
    "accelerator": "GPU"
  },
  "cells": [
    {
      "cell_type": "markdown",
      "metadata": {
        "id": "view-in-github",
        "colab_type": "text"
      },
      "source": [
        "<a href=\"https://colab.research.google.com/github/alekseytanana/ml_notebooks/blob/main/Generate_Neural_Style_Image.ipynb\" target=\"_parent\"><img src=\"https://colab.research.google.com/assets/colab-badge.svg\" alt=\"Open In Colab\"/></a>"
      ]
    },
    {
      "cell_type": "code",
      "execution_count": null,
      "metadata": {
        "cellView": "form",
        "id": "nw4WPEnJEEF_"
      },
      "outputs": [],
      "source": [
        "#@title Install dependencies\n",
        "from IPython.display import clear_output\n",
        "\n",
        "!pip install h5py\n",
        "!pip install typing-extensions\n",
        "!pip install wheel\n",
        "\n",
        "%tensorflow_version 1.x\n",
        "\n",
        "# !pip install ml4a\n",
        "!pip install git+https://github.com/alekseytanana/ml4a.git@debug\n",
        "clear_output()"
      ]
    },
    {
      "cell_type": "code",
      "source": [
        "#@title # Generate Neural Style 🖼️ (background + foreground)\n",
        "# @markdown ###**Choose your settings**\n",
        "\n",
        "from ml4a import image\n",
        "from ml4a.models import basnet, neural_style\n",
        "from ml4a.canvas import mask\n",
        "from google.colab import files\n",
        "\n",
        "neural_style.params.gpu = '0'\n",
        "neural_style.params.backend = 'cudnn'\n",
        "\n",
        "img_link = 'https://www.dropbox.com/s/7bemh1k96e42n7d/ruskeala.jpg?raw=1' #@param {type:\"string\"}\n",
        "img0 = image.load_image(img_link)\n",
        "img0_fg = basnet.get_foreground(img0)\n",
        "\n",
        "bg_style_img_link = \"https://upload.wikimedia.org/wikipedia/commons/thumb/0/00/Crab_Nebula.jpg/1200px-Crab_Nebula.jpg\" #@param {type:\"string\"}\n",
        "fg_style_img_link = \"https://i.pinimg.com/originals/95/39/4b/95394b91a920e8c9014bac8eb25056d9.jpg\" #@param {type:\"string\"}\n",
        "\n",
        "config = {\n",
        "    'size': 720,\n",
        "    'content_image': img0, \n",
        "    'style_images': [bg_style_img_link,\n",
        "                     fg_style_img_link],\n",
        "    'content_masks': [mask.mask_to_image(1.0-img0_fg/255.0), \n",
        "                      mask.mask_to_image(img0_fg/255.0)],\n",
        "    'style_scale': 1.0,\n",
        "    'num_iterations': [800, 500, 250],\n",
        "    'num_octaves': 3,\n",
        "    'octave_ratio': 1.75,\n",
        "    'original_colors': False\n",
        "}\n",
        "\n",
        "img = neural_style.run(config)\n",
        "image.display(img)\n",
        "files.download(img)"
      ],
      "metadata": {
        "cellView": "form",
        "id": "k3iIg_bHRPS3"
      },
      "execution_count": null,
      "outputs": []
    }
  ]
}